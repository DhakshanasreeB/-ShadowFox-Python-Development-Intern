{
 "cells": [
  {
   "cell_type": "markdown",
   "id": "3a6d0e97",
   "metadata": {},
   "source": [
    "# DHAKSHANA SREE- SHADOWFOX INTERN PYTHON DEVELOPMENT\n",
    "TASK-1(BEGINNER)"
   ]
  },
  {
   "cell_type": "code",
   "execution_count": 26,
   "id": "05cb54a7",
   "metadata": {},
   "outputs": [
    {
     "name": "stdout",
     "output_type": "stream",
     "text": [
      "Dhakshana\n"
     ]
    }
   ],
   "source": [
    "hello = \"Dhakshana\"\n",
    "print(hello)"
   ]
  },
  {
   "cell_type": "code",
   "execution_count": 2,
   "id": "72de73bb",
   "metadata": {},
   "outputs": [
    {
     "name": "stdout",
     "output_type": "stream",
     "text": [
      "Dhakshana\n"
     ]
    }
   ],
   "source": [
    "print(hello)"
   ]
  },
  {
   "cell_type": "code",
   "execution_count": 3,
   "id": "0b3e23f7",
   "metadata": {},
   "outputs": [
    {
     "name": "stdout",
     "output_type": "stream",
     "text": [
      "hello\n"
     ]
    }
   ],
   "source": [
    "print(\"hello\")"
   ]
  },
  {
   "cell_type": "code",
   "execution_count": 15,
   "id": "39369548",
   "metadata": {},
   "outputs": [
    {
     "name": "stdout",
     "output_type": "stream",
     "text": [
      "hii\n"
     ]
    }
   ],
   "source": [
    "user_input = input()"
   ]
  },
  {
   "cell_type": "markdown",
   "id": "ae0f7f59",
   "metadata": {},
   "source": [
    "# VARIABLES"
   ]
  },
  {
   "cell_type": "code",
   "execution_count": 29,
   "id": "837fb6e6",
   "metadata": {},
   "outputs": [
    {
     "name": "stdout",
     "output_type": "stream",
     "text": [
      "<class 'float'>\n"
     ]
    }
   ],
   "source": [
    "pi = 22/7\n",
    "print(type(pi))"
   ]
  },
  {
   "cell_type": "code",
   "execution_count": 9,
   "id": "df6e62c7",
   "metadata": {},
   "outputs": [
    {
     "ename": "SyntaxError",
     "evalue": "invalid syntax (2046953698.py, line 1)",
     "output_type": "error",
     "traceback": [
      "\u001b[1;36m  Cell \u001b[1;32mIn[9], line 1\u001b[1;36m\u001b[0m\n\u001b[1;33m    for = 4\u001b[0m\n\u001b[1;37m        ^\u001b[0m\n\u001b[1;31mSyntaxError\u001b[0m\u001b[1;31m:\u001b[0m invalid syntax\n"
     ]
    }
   ],
   "source": [
    "for=4"
   ]
  },
  {
   "cell_type": "raw",
   "id": "8f2f107e",
   "metadata": {},
   "source": [
    "# The \"for\" is an invalid variable for storing the value so it returns invalid Syntax.Looping statements use \"for\".It is an reserved Keyword."
   ]
  },
  {
   "cell_type": "code",
   "execution_count": 25,
   "id": "86177557",
   "metadata": {},
   "outputs": [
    {
     "name": "stdout",
     "output_type": "stream",
     "text": [
      "50\n",
      "50\n",
      "Simple Interest is:  75\n"
     ]
    }
   ],
   "source": [
    "P = float(input())\n",
    "R = float(input())\n",
    "T = 3\n",
    "SI = round((P*R*T)/100)  \n",
    "print(\"Simple Interest is: \",SI)\n"
   ]
  },
  {
   "cell_type": "code",
   "execution_count": null,
   "id": "36ce4f7c",
   "metadata": {},
   "outputs": [],
   "source": [
    "#FUNCTION CREATION\n",
    "def fun():\n",
    "    print(\"Say Hello\")\n",
    "    \n",
    "fun()\n"
   ]
  },
  {
   "cell_type": "code",
   "execution_count": 4,
   "id": "abc302e6",
   "metadata": {},
   "outputs": [
    {
     "name": "stdout",
     "output_type": "stream",
     "text": [
      "Hello dhaksh\n"
     ]
    }
   ],
   "source": [
    "def name(NAME):\n",
    "    print(f\"Hello {NAME}\")\n",
    "    \n",
    "name(\"dhaksh\")"
   ]
  },
  {
   "cell_type": "markdown",
   "id": "822fe4a9",
   "metadata": {},
   "source": [
    "# NUMBERS "
   ]
  },
  {
   "cell_type": "markdown",
   "id": "a0de181e",
   "metadata": {},
   "source": [
    "Write a function that takes two arguments, 145 and 'o', and\n",
    "uses the `format` function to return a formatted string. Print the\n",
    "result. Try to identify the representation used."
   ]
  },
  {
   "cell_type": "code",
   "execution_count": 6,
   "id": "6371be56",
   "metadata": {},
   "outputs": [
    {
     "name": "stdout",
     "output_type": "stream",
     "text": [
      "Formated string: 221\n"
     ]
    }
   ],
   "source": [
    "def formatnumber(num,rep):\n",
    "    return format(num,rep)\n",
    "\n",
    "\n",
    "result = format(145,'o')\n",
    "print(\"Formated string:\",result) #octal base representation"
   ]
  },
  {
   "cell_type": "markdown",
   "id": "e6c9fb1c",
   "metadata": {},
   "source": [
    "# Calculate the area of the pond using the formula: Circle Area = πr^2. (Use the value 3.14 for π) \n"
   ]
  },
  {
   "cell_type": "code",
   "execution_count": 7,
   "id": "13c8e047",
   "metadata": {},
   "outputs": [
    {
     "name": "stdout",
     "output_type": "stream",
     "text": [
      "1.4\n",
      "Area:  6.1544\n"
     ]
    }
   ],
   "source": [
    "pi = 3.14\n",
    "radius = float(input())\n",
    "area = pi * radius**2\n",
    "print(\"Area: \",area)"
   ]
  },
  {
   "cell_type": "markdown",
   "id": "55f8aa8d",
   "metadata": {},
   "source": [
    "Bonus Question: If there is exactly\n",
    "1.4 liters of water in a square meter, what is the total amount of\n",
    "water in the pond? Print the answer without any decimal point in\n",
    "it. Hint: Circle Area = π r^2 Water in the pond = Pond Area\n",
    "Water per Square Meter"
   ]
  },
  {
   "cell_type": "code",
   "execution_count": 10,
   "id": "98f743ea",
   "metadata": {},
   "outputs": [
    {
     "name": "stdout",
     "output_type": "stream",
     "text": [
      "3.4\n",
      "Water in the pond:  50\n"
     ]
    }
   ],
   "source": [
    "pi = 3.14\n",
    "radius = float(input())\n",
    "area =pi * radius **2\n",
    "\n",
    "square_meters = 1.4 * area\n",
    "result = int(square_meters)\n",
    "print(\"Water in the pond: \",result)"
   ]
  },
  {
   "cell_type": "markdown",
   "id": "bbb29d72",
   "metadata": {},
   "source": [
    "3.If you cross a 490meter long street in 7 minutes, calculate your\n",
    "speed in meters per second. Print the answer without any decimal\n",
    "point in it. Hint: Speed = Distance / Time"
   ]
  },
  {
   "cell_type": "code",
   "execution_count": 3,
   "id": "fa326152",
   "metadata": {},
   "outputs": [
    {
     "name": "stdout",
     "output_type": "stream",
     "text": [
      "490\n",
      "7\n",
      "Total speed:  1 meter per second\n"
     ]
    }
   ],
   "source": [
    "#to calculate speed in meter/second multiply the given time with 60 seconds\n",
    "distance = float(input())\n",
    "time = float(input())*60\n",
    "speed = distance/time\n",
    "result = int(speed)\n",
    "print(\"Total speed: \",result,\"meter per second\")"
   ]
  },
  {
   "cell_type": "markdown",
   "id": "40611d96",
   "metadata": {},
   "source": [
    "# LIST"
   ]
  },
  {
   "cell_type": "markdown",
   "id": "34563e4a",
   "metadata": {},
   "source": [
    "# You have a list of superheroes representing the JusticeLeague. justice_league = [\"Superman\",\"Batman\",\"WonderWoman\",\"Flash\",\"Aquaman\",\"Green Lantern\"]"
   ]
  },
  {
   "cell_type": "markdown",
   "id": "58f1523d",
   "metadata": {},
   "source": [
    "Calculate the number of members in the Justice League."
   ]
  },
  {
   "cell_type": "code",
   "execution_count": 19,
   "id": "f4026f45",
   "metadata": {},
   "outputs": [
    {
     "name": "stdout",
     "output_type": "stream",
     "text": [
      "No. of members:  6\n"
     ]
    }
   ],
   "source": [
    "justice_league = [\"Superman\",\"Batman\",\"WonderWoman\",\"Flash\",\"Aquaman\",\"Green Lantern\"]\n",
    "print(\"No. of members: \" ,len(justice_league))"
   ]
  },
  {
   "cell_type": "markdown",
   "id": "739242bf",
   "metadata": {},
   "source": [
    "Batman recruited Batgirl and Nightwing as new members.\n",
    "Add them to your list."
   ]
  },
  {
   "cell_type": "code",
   "execution_count": 20,
   "id": "93c1fafc",
   "metadata": {},
   "outputs": [
    {
     "name": "stdout",
     "output_type": "stream",
     "text": [
      "['Superman', 'Batman', 'WonderWoman', 'Flash', 'Aquaman', 'Green Lantern', 'Batgirl', 'Nightwing']\n"
     ]
    }
   ],
   "source": [
    "justice_league.extend([\"Batgirl\",\"Nightwing\"]) # extend keyword helps in adding new mwmwbers to the list\n",
    "print(justice_league)"
   ]
  },
  {
   "cell_type": "markdown",
   "id": "78409876",
   "metadata": {},
   "source": [
    "Wonder Woman is now the leader of the Justice League.\n",
    "Move her to the beginning of the list."
   ]
  },
  {
   "cell_type": "code",
   "execution_count": 21,
   "id": "9410b9df",
   "metadata": {},
   "outputs": [
    {
     "name": "stdout",
     "output_type": "stream",
     "text": [
      "['WonderWoman', 'Superman', 'Batman', 'Flash', 'Aquaman', 'Green Lantern', 'Batgirl', 'Nightwing']\n"
     ]
    }
   ],
   "source": [
    "justice_league.remove(\"WonderWoman\")\n",
    "justice_league.insert(0,\"WonderWoman\")\n",
    "print(justice_league)"
   ]
  },
  {
   "cell_type": "markdown",
   "id": "9f57aae0",
   "metadata": {},
   "source": [
    "Aquaman and Flash are having conflicts, and you need to\n",
    "separate them. Choose either \"Green Lantern\" or \"Superman\"\n",
    "and move them in between Aquaman and Flash."
   ]
  },
  {
   "cell_type": "code",
   "execution_count": 23,
   "id": "70dc05e3",
   "metadata": {},
   "outputs": [
    {
     "name": "stdout",
     "output_type": "stream",
     "text": [
      "['WonderWoman', 'Superman', 'Batman', 'Green Lantern', 'Flash', 'Aquaman', 'Batgirl', 'Nightwing']\n"
     ]
    }
   ],
   "source": [
    "justice_league.remove(\"Green Lantern\")\n",
    "\n",
    "aquaman_index = justice_league.index(\"Aquaman\")\n",
    "flash_index = justice_league.index(\"Flash\")\n",
    "\n",
    "justice_league.insert(flash_index,\"Green Lantern\")\n",
    "print(justice_league)\n"
   ]
  },
  {
   "cell_type": "markdown",
   "id": "bbd9dc5c",
   "metadata": {},
   "source": [
    "The Justice League faced a crisis, and Superman decided to assemble a new team. Replace the existing list with the following new members: \"Cyborg\",\"Shazam\",\"Hawkgirl\",\"Martian Manhunter\",\"Green Arrow\"."
   ]
  },
  {
   "cell_type": "code",
   "execution_count": 24,
   "id": "d6fd01ae",
   "metadata": {},
   "outputs": [
    {
     "name": "stdout",
     "output_type": "stream",
     "text": [
      "['Cyborg', 'Shazam', 'Hawkgirl', 'Martian Manhunter', 'Green Arrow']\n"
     ]
    }
   ],
   "source": [
    "justice_league = [\"Cyborg\",\"Shazam\",\"Hawkgirl\",\"Martian Manhunter\",\"Green Arrow\"]\n",
    "print(justice_league)"
   ]
  },
  {
   "cell_type": "markdown",
   "id": "dd16b103",
   "metadata": {},
   "source": [
    "Sort the Justice League alphabetically. The hero at the 0th index will become the new leader."
   ]
  },
  {
   "cell_type": "code",
   "execution_count": 26,
   "id": "43a300d6",
   "metadata": {},
   "outputs": [
    {
     "name": "stdout",
     "output_type": "stream",
     "text": [
      "Memebers:  ['Cyborg', 'Green Arrow', 'Hawkgirl', 'Martian Manhunter', 'Shazam']\n",
      "New Leader:  Cyborg\n"
     ]
    }
   ],
   "source": [
    "justice_league.sort()\n",
    "new_leader = justice_league[0]\n",
    "print(\"Memebers: \",justice_league)\n",
    "print(\"New Leader: \",new_leader)"
   ]
  },
  {
   "cell_type": "markdown",
   "id": "f5b54a46",
   "metadata": {},
   "source": [
    "# IF CONDITIONS"
   ]
  },
  {
   "cell_type": "markdown",
   "id": "7377f6b4",
   "metadata": {},
   "source": [
    "Write a program to determine the BMI Category based on user input.\n",
    "Ask the user to:\n",
    "Enter height in meters\n",
    "Enter weight in kilograms\n",
    "\n",
    "Calculate BMI using the formula: BMI = weight / (height)2\n",
    "Use the following categories:\n",
    "If BMI is 30 or greater, print \"Obesity\"\n",
    "\n",
    "If BMI is between 25 and 29, print \"Overweight\"\n",
    "\n",
    "If BMI is between 18.5 and 25, print \"Normal\"\n",
    "\n",
    "If BMI is less than 18.5, print \"Underweight\"\n"
   ]
  },
  {
   "cell_type": "code",
   "execution_count": 13,
   "id": "170b7cb8",
   "metadata": {},
   "outputs": [
    {
     "name": "stdout",
     "output_type": "stream",
     "text": [
      "Enter height in meters: 1.75\n",
      "Enter weight in kilograms: 70\n",
      "NORMAL\n"
     ]
    }
   ],
   "source": [
    "height = float(input(\"Enter height in meters: \"))\n",
    "weight = float(input(\"Enter weight in kilograms: \"))\n",
    "BMI = weight / height**2\n",
    "\n",
    "if BMI>=30:\n",
    "    print(\"Obesity\")\n",
    "    \n",
    "elif BMI>=25 and BMI<30:\n",
    "    print(\"Overweight\")\n",
    "\n",
    "elif BMI>=18.5 and BMI <25:\n",
    "    print(\"NORMAL\")\n",
    "\n",
    "else:\n",
    "    print(\"Underweight\")"
   ]
  },
  {
   "cell_type": "markdown",
   "id": "428857ba",
   "metadata": {},
   "source": [
    "Write a program to determine which country a city belongs to. Given\n",
    "list of cities per country:\n",
    "\n",
    "\n",
    "Australia = [\"Sydney\"\n",
    ",\n",
    "\"Melbourne\"\n",
    ",\n",
    "\"Brisbane\"\n",
    ",\n",
    "\"Perth\"]\n",
    "\n",
    "UAE = [\"Dubai\"\n",
    ",\n",
    "\"Abu Dhabi\"\n",
    ",\n",
    "\"Sharjah\"\n",
    ",\n",
    "\"Ajman\"]\n",
    "\n",
    "India = [\"Mumbai\"\n",
    ",\n",
    "\"Bangalore\"\n",
    ",\n",
    "\"Chennai\"\n",
    ",\n",
    "\"Delhi\"]\n",
    "\n",
    "Ask the user to enter a city name and print the corresponding country.\n"
   ]
  },
  {
   "cell_type": "code",
   "execution_count": 15,
   "id": "1c9f9be4",
   "metadata": {},
   "outputs": [
    {
     "name": "stdout",
     "output_type": "stream",
     "text": [
      "Enter city name: Delhi\n",
      "Delhi is in India\n"
     ]
    }
   ],
   "source": [
    "Australia = [\"Sydney\",\"Melbourne\",\"Birsbane\",\"Perth\"]\n",
    "UAE = [\"Dubai\",\"Abu Dhabi\",\"Sharjah\",\"Ajman\"]\n",
    "India = [\"Mumbai\",\"Banglore\",\"Chennai\",\"Delhi\"]\n",
    "city = input(\"Enter city name: \")\n",
    "\n",
    "if city in Australia:\n",
    "    print(f\"{city} is in Australia\")\n",
    "elif city in UAE:\n",
    "    print(f\"{city} is in UAE\")\n",
    "elif city in India:\n",
    "    print(f\"{city} is in India\")\n",
    "else:\n",
    "    print(f\"{city} not found\")"
   ]
  },
  {
   "cell_type": "markdown",
   "id": "5331c1dd",
   "metadata": {},
   "source": [
    "Write a program to check if two cities belong to the same country.\n",
    "Ask the user to enter two cities and print whether they belong to the\n",
    "same country or not.\n"
   ]
  },
  {
   "cell_type": "code",
   "execution_count": 11,
   "id": "50c6d0bc",
   "metadata": {},
   "outputs": [
    {
     "name": "stdout",
     "output_type": "stream",
     "text": [
      "Enter city1: chennai\n",
      "Enter city2: abu dhabi\n",
      "Both the cities are in different countries\n"
     ]
    }
   ],
   "source": [
    "Australia = [\"Sydney\",\"Melbourne\",\"Brisbane\",\"Perth\"]\n",
    "UAE = [\"Dubai\",\"Abu Dhabi\",\"Sharjah\",\"Ajman\"]\n",
    "India = [\"Mumbai\",\"Bangalore\",\"Chennai\",\"Delhi\"]\n",
    "\n",
    "\n",
    "city1 = input(\"Enter city1: \").title()\n",
    "city2 = input(\"Enter city2: \").title()\n",
    "\n",
    "def get_country(city):\n",
    "    if city in Australia:\n",
    "        return \"Australia\"\n",
    "    elif city in UAE:\n",
    "        return \"UAE\"\n",
    "    elif city in India:\n",
    "        return \"India\"\n",
    "    else:\n",
    "        return None\n",
    "\n",
    "country1 = get_country(city1)\n",
    "country2 = get_country(city2)\n",
    "if country1 and country2:\n",
    "    if country1 == country2:\n",
    "        print(f\"Both the cities are in same country: {country1}\")\n",
    "    else:\n",
    "        print(\"Both the cities are in different countries\")\n",
    "else:\n",
    "    print(\"One or both the city values are invalid\")"
   ]
  },
  {
   "cell_type": "markdown",
   "id": "58d7bbce",
   "metadata": {},
   "source": [
    "# For Loop:"
   ]
  },
  {
   "cell_type": "markdown",
   "id": "774fc6c9",
   "metadata": {},
   "source": [
    "Using a for loop, simulate rolling a sixsided die multiple times (at least 20\n",
    "times).\n",
    "\n",
    "Count and print the following statistics:\n",
    "\n",
    "How many times you rolled a 6\n",
    "\n",
    "How many times you rolled a 1\n",
    "\n",
    "How many times you rolled two 6s in a row"
   ]
  },
  {
   "cell_type": "code",
   "execution_count": 12,
   "id": "02695fdf",
   "metadata": {},
   "outputs": [
    {
     "name": "stdout",
     "output_type": "stream",
     "text": [
      "Number of times 6 appeared: 8\n",
      "Probability of rolling 6: 0.16\n"
     ]
    }
   ],
   "source": [
    "import random\n",
    "\n",
    "rolls = 50  # You can set this to any number ≥ 20\n",
    "count_6 = 0\n",
    "\n",
    "for _ in range(rolls):\n",
    "    roll = random.randint(1, 6)\n",
    "    if roll == 6:\n",
    "        count_6 += 1\n",
    "\n",
    "print(f\"Number of times 6 appeared: {count_6}\")\n",
    "print(f\"Probability of rolling 6: {count_6 / rolls:.2f}\")\n"
   ]
  },
  {
   "cell_type": "code",
   "execution_count": 14,
   "id": "175bfc45",
   "metadata": {},
   "outputs": [
    {
     "name": "stdout",
     "output_type": "stream",
     "text": [
      "Number of times 1 appeared: 11\n",
      "Probability of rolling 1: 0.22\n"
     ]
    }
   ],
   "source": [
    "import random\n",
    "\n",
    "rolls = 50  # You can set this to any number ≥ 20\n",
    "count_1 = 0\n",
    "\n",
    "for _ in range(rolls):\n",
    "    roll = random.randint(1, 6)\n",
    "    if roll == 1:\n",
    "        count_1 += 1\n",
    "\n",
    "print(f\"Number of times 1 appeared: {count_1}\")\n",
    "print(f\"Probability of rolling 1: {count_1 / rolls:.2f}\")\n"
   ]
  },
  {
   "cell_type": "markdown",
   "id": "c2b6c090",
   "metadata": {},
   "source": [
    "2. Imagine you are doing a workout routine, and you have to complete 100\n",
    "jumping jacks.\n",
    "Write a program that:\n",
    "Asks you to perform 10 jumping jacks at a time.\n",
    "After each set, it asks, \"Are you tired?\"\n",
    "If you reply \"yes\" or \"y,\" it should ask if you want to skip the remaining sets.\n",
    "If you reply \"yes\" or \"y,\" it should break and print, \"You completed a total of\n",
    "jumping jacks.\"\n",
    "For example, if you did only 30 jumping jacks and answered \"yes,\" the program\n",
    "will break and print, \"You completed a total of 30 jumping jacks.\"\n",
    "If you reply \"no\" or \"n,\" it should continue and display how many jumping jacks\n",
    "are remaining. After that, ask you again, \"Are you tired?\"\n",
    "For example, if you answered \"no,\" it should display that 70 jumping jacks are\n",
    "remaining and ask you again, \"Are you tired?\"\n",
    "If you reply \"no\" or \"n,\" it should continue and display how many jumping jacks\n",
    "are remaining. After that, ask you again, \"Are you tired?\"\n",
    "For example, if you answered \"no,\" it should display that 70 jumping jacks are\n",
    "remaining and ask you again, \"Are you tired?\"\n",
    "If you complete all 100 jumping jacks, it should print, \"Congratulations! You\n",
    "completed the workout,\" and stop the program"
   ]
  },
  {
   "cell_type": "code",
   "execution_count": 1,
   "id": "951f3084",
   "metadata": {},
   "outputs": [
    {
     "name": "stdout",
     "output_type": "stream",
     "text": [
      "You've done 10 jumping jacks.\n",
      "Are you tired? (yes/no): y\n",
      "Do you want to skip the remaining sets? (yes/no): n\n",
      "Okay! 90 jumping jacks remaining. Keep going!\n",
      "\n",
      "You've done 20 jumping jacks.\n",
      "Are you tired? (yes/no): n\n",
      "Great! 80 jumping jacks remaining.\n",
      "\n",
      "You've done 30 jumping jacks.\n",
      "Are you tired? (yes/no): n\n",
      "Great! 70 jumping jacks remaining.\n",
      "\n",
      "You've done 40 jumping jacks.\n",
      "Are you tired? (yes/no): n\n",
      "Great! 60 jumping jacks remaining.\n",
      "\n",
      "You've done 50 jumping jacks.\n",
      "Are you tired? (yes/no): n\n",
      "Great! 50 jumping jacks remaining.\n",
      "\n",
      "You've done 60 jumping jacks.\n",
      "Are you tired? (yes/no): n\n",
      "Great! 40 jumping jacks remaining.\n",
      "\n",
      "You've done 70 jumping jacks.\n",
      "Are you tired? (yes/no): n\n",
      "Great! 30 jumping jacks remaining.\n",
      "\n",
      "You've done 80 jumping jacks.\n",
      "Are you tired? (yes/no): n\n",
      "Great! 20 jumping jacks remaining.\n",
      "\n",
      "You've done 90 jumping jacks.\n",
      "Are you tired? (yes/no): n\n",
      "Great! 10 jumping jacks remaining.\n",
      "\n",
      "You've done 100 jumping jacks.\n",
      "Are you tired? (yes/no): n\n",
      "Great! 0 jumping jacks remaining.\n",
      "\n",
      "Congratulations! You completed the workout.\n"
     ]
    }
   ],
   "source": [
    "total_jumping_jacks = 100\n",
    "done = 0\n",
    "\n",
    "for i in range(0, total_jumping_jacks, 10):  # Loop in steps of 10\n",
    "    done += 10\n",
    "    print(f\"You've done {done} jumping jacks.\")\n",
    "\n",
    "    tired = input(\"Are you tired? (yes/no): \").strip().lower()\n",
    "\n",
    "    if tired == \"yes\" or tired == \"y\":\n",
    "        skip = input(\"Do you want to skip the remaining sets? (yes/no): \").strip().lower()\n",
    "        if skip == \"yes\" or skip == \"y\":\n",
    "            print(f\"You completed a total of {done} jumping jacks.\")\n",
    "            break\n",
    "        else:\n",
    "            remaining = total_jumping_jacks - done\n",
    "            print(f\"Okay! {remaining} jumping jacks remaining. Keep going!\\n\")\n",
    "    else:\n",
    "        remaining = total_jumping_jacks - done\n",
    "        print(f\"Great! {remaining} jumping jacks remaining.\\n\")\n",
    "\n",
    "\n",
    "if done == total_jumping_jacks:\n",
    "    print(\"Congratulations! You completed the workout.\")\n"
   ]
  },
  {
   "cell_type": "markdown",
   "id": "21dc99de",
   "metadata": {},
   "source": [
    "#  Dictionary"
   ]
  },
  {
   "cell_type": "markdown",
   "id": "ae445fcc",
   "metadata": {},
   "source": [
    "Create a list of your friends' names. The list should have at least 5 names.\n",
    "Create a list of tuples. Each tuple should contain a friend's name and the length\n",
    "of the name."
   ]
  },
  {
   "cell_type": "code",
   "execution_count": 2,
   "id": "f8465ca5",
   "metadata": {},
   "outputs": [
    {
     "name": "stdout",
     "output_type": "stream",
     "text": [
      "List of name and their lengths:\n",
      "[('Aarav', 5), ('Priya', 5), ('Vikram', 6), ('Sneha', 5), ('Karthik', 7)]\n"
     ]
    }
   ],
   "source": [
    "\n",
    "friends = [\"Aarav\", \"Priya\", \"Vikram\", \"Sneha\", \"Karthik\"]\n",
    "\n",
    "name_lengths = []\n",
    "\n",
    "for friend in friends:\n",
    "    name_lengths.append((friend, len(friend)))\n",
    "\n",
    "\n",
    "print(\"List of name and their lengths:\")\n",
    "print(name_lengths)\n"
   ]
  },
  {
   "cell_type": "markdown",
   "id": "e5194e54",
   "metadata": {},
   "source": [
    "2.You and your partner are planning a trip, and you want to track expenses.\n",
    "Create two dictionaries, one for your expenses and one for your partner's\n",
    "expenses. Each dictionary should contain at least 5 expense categories and their\n",
    "corresponding amounts."
   ]
  },
  {
   "cell_type": "code",
   "execution_count": 3,
   "id": "62a44abf",
   "metadata": {},
   "outputs": [
    {
     "name": "stdout",
     "output_type": "stream",
     "text": [
      "Your total expenses: ₹3000\n",
      "Partner's total expenses: ₹3050\n",
      "Your partner spent more overall.\n",
      "Biggest difference in spending is in 'Hotel' category: ₹200\n"
     ]
    }
   ],
   "source": [
    "your_expenses = {\n",
    "    \"Hotel\": 1200,\n",
    "    \"Food\": 800,\n",
    "    \"Transportation\": 500,\n",
    "    \"Attractions\": 300,\n",
    "    \"Miscellaneous\": 200\n",
    "}\n",
    "\n",
    "partner_expenses = {\n",
    "    \"Hotel\": 1000,\n",
    "    \"Food\": 900,\n",
    "    \"Transportation\": 600,\n",
    "    \"Attractions\": 400,\n",
    "    \"Miscellaneous\": 150\n",
    "}\n",
    "\n",
    "your_total = sum(your_expenses.values())\n",
    "partner_total = sum(partner_expenses.values())\n",
    "\n",
    "print(f\"Your total expenses: ₹{your_total}\")\n",
    "print(f\"Partner's total expenses: ₹{partner_total}\")\n",
    "\n",
    "\n",
    "if your_total > partner_total:\n",
    "    print(\"You spent more overall.\")\n",
    "elif partner_total > your_total:\n",
    "    print(\"Your partner spent more overall.\")\n",
    "else:\n",
    "    print(\"Both spent the same amount.\")\n",
    "\n",
    "max_diff = 0\n",
    "max_diff_category = \"\"\n",
    "\n",
    "for category in your_expenses:\n",
    "    diff = abs(your_expenses[category] - partner_expenses[category])\n",
    "    if diff > max_diff:\n",
    "        max_diff = diff\n",
    "        max_diff_category = category\n",
    "\n",
    "print(f\"Biggest difference in spending is in '{max_diff_category}' category: ₹{max_diff}\")\n"
   ]
  },
  {
   "cell_type": "code",
   "execution_count": null,
   "id": "6ff11809",
   "metadata": {},
   "outputs": [],
   "source": []
  }
 ],
 "metadata": {
  "kernelspec": {
   "display_name": "Python 3 (ipykernel)",
   "language": "python",
   "name": "python3"
  },
  "language_info": {
   "codemirror_mode": {
    "name": "ipython",
    "version": 3
   },
   "file_extension": ".py",
   "mimetype": "text/x-python",
   "name": "python",
   "nbconvert_exporter": "python",
   "pygments_lexer": "ipython3",
   "version": "3.11.4"
  }
 },
 "nbformat": 4,
 "nbformat_minor": 5
}
