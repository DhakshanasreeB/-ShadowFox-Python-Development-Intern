{
  "nbformat": 4,
  "nbformat_minor": 0,
  "metadata": {
    "colab": {
      "provenance": []
    },
    "kernelspec": {
      "name": "python3",
      "display_name": "Python 3"
    },
    "language_info": {
      "name": "python"
    }
  },
  "cells": [
    {
      "cell_type": "markdown",
      "source": [
        "**1. WEBSCRAPPING**"
      ],
      "metadata": {
        "id": "B-o-SIlxPoWg"
      }
    },
    {
      "cell_type": "code",
      "execution_count": 16,
      "metadata": {
        "colab": {
          "base_uri": "https://localhost:8080/"
        },
        "id": "us5uiFjAHFHF",
        "outputId": "799c6318-3a72-4712-86c3-31ccff9dee89"
      },
      "outputs": [
        {
          "output_type": "stream",
          "name": "stdout",
          "text": [
            "Requirement already satisfied: selenium in /usr/local/lib/python3.11/dist-packages (4.32.0)\n",
            "Requirement already satisfied: urllib3<3,>=1.26 in /usr/local/lib/python3.11/dist-packages (from urllib3[socks]<3,>=1.26->selenium) (2.4.0)\n",
            "Requirement already satisfied: trio~=0.17 in /usr/local/lib/python3.11/dist-packages (from selenium) (0.30.0)\n",
            "Requirement already satisfied: trio-websocket~=0.9 in /usr/local/lib/python3.11/dist-packages (from selenium) (0.12.2)\n",
            "Requirement already satisfied: certifi>=2021.10.8 in /usr/local/lib/python3.11/dist-packages (from selenium) (2025.4.26)\n",
            "Requirement already satisfied: typing_extensions~=4.9 in /usr/local/lib/python3.11/dist-packages (from selenium) (4.13.2)\n",
            "Requirement already satisfied: websocket-client~=1.8 in /usr/local/lib/python3.11/dist-packages (from selenium) (1.8.0)\n",
            "Requirement already satisfied: attrs>=23.2.0 in /usr/local/lib/python3.11/dist-packages (from trio~=0.17->selenium) (25.3.0)\n",
            "Requirement already satisfied: sortedcontainers in /usr/local/lib/python3.11/dist-packages (from trio~=0.17->selenium) (2.4.0)\n",
            "Requirement already satisfied: idna in /usr/local/lib/python3.11/dist-packages (from trio~=0.17->selenium) (3.10)\n",
            "Requirement already satisfied: outcome in /usr/local/lib/python3.11/dist-packages (from trio~=0.17->selenium) (1.3.0.post0)\n",
            "Requirement already satisfied: sniffio>=1.3.0 in /usr/local/lib/python3.11/dist-packages (from trio~=0.17->selenium) (1.3.1)\n",
            "Requirement already satisfied: wsproto>=0.14 in /usr/local/lib/python3.11/dist-packages (from trio-websocket~=0.9->selenium) (1.2.0)\n",
            "Requirement already satisfied: pysocks!=1.5.7,<2.0,>=1.5.6 in /usr/local/lib/python3.11/dist-packages (from urllib3[socks]<3,>=1.26->selenium) (1.7.1)\n",
            "Requirement already satisfied: h11<1,>=0.9.0 in /usr/local/lib/python3.11/dist-packages (from wsproto>=0.14->trio-websocket~=0.9->selenium) (0.16.0)\n",
            "Requirement already satisfied: beautifulsoup4 in /usr/local/lib/python3.11/dist-packages (4.13.4)\n",
            "Requirement already satisfied: soupsieve>1.2 in /usr/local/lib/python3.11/dist-packages (from beautifulsoup4) (2.7)\n",
            "Requirement already satisfied: typing-extensions>=4.0.0 in /usr/local/lib/python3.11/dist-packages (from beautifulsoup4) (4.13.2)\n"
          ]
        }
      ],
      "source": [
        "!pip install selenium\n",
        "!pip install beautifulsoup4\n",
        "\n"
      ]
    },
    {
      "cell_type": "code",
      "source": [
        "import requests\n",
        "from bs4 import BeautifulSoup\n",
        "\n",
        "# URL to scrape\n",
        "url = \"https://en.wikipedia.org/wiki/Web_scraping\"\n",
        "\n",
        "# Send GET request\n",
        "response = requests.get(url)\n",
        "\n",
        "# Parse the HTML content using BeautifulSoup\n",
        "soup = BeautifulSoup(response.text, 'html.parser')\n",
        "\n",
        "# Find all headings (h1 to h3 for example)\n",
        "for heading in soup.find_all(['h1', 'h2', 'h3']):\n",
        "    print(heading.text.strip())\n"
      ],
      "metadata": {
        "colab": {
          "base_uri": "https://localhost:8080/"
        },
        "id": "nrKdASdgIEPw",
        "outputId": "72e5e056-05d1-426e-9831-5a5bce0a4175"
      },
      "execution_count": 15,
      "outputs": [
        {
          "output_type": "stream",
          "name": "stdout",
          "text": [
            "Contents\n",
            "Web scraping\n",
            "History\n",
            "Techniques\n",
            "Human copy-and-paste\n",
            "Text pattern matching\n",
            "HTTP programming\n",
            "HTML parsing\n",
            "DOM parsing\n",
            "Vertical aggregation\n",
            "Semantic annotation recognizing\n",
            "Computer vision web-page analysis\n",
            "AI-powered document understanding\n",
            "Legal issues\n",
            "United States\n",
            "European Union\n",
            "Australia\n",
            "India\n",
            "Methods to prevent web scraping\n",
            "See also\n",
            "References\n"
          ]
        }
      ]
    },
    {
      "cell_type": "markdown",
      "source": [
        "**HANGMAN**"
      ],
      "metadata": {
        "id": "jf_Rt8BgPvW7"
      }
    },
    {
      "cell_type": "code",
      "source": [
        "import random\n",
        "\n",
        "# Word list with hints\n",
        "words = [\n",
        "    (\"python\", \"A popular programming language\"),\n",
        "    (\"elephant\", \"A large animal with a trunk\"),\n",
        "    (\"pizza\", \"A popular Italian dish with cheese and sauce\"),\n",
        "    (\"guitar\", \"A musical instrument with strings\"),\n",
        "    (\"airplane\", \"Used for flying in the sky\")\n",
        "]\n",
        "\n",
        "# Shuffle the list to increase randomness\n",
        "random.shuffle(words)\n",
        "\n",
        "# Pick the first word from the shuffled list\n",
        "word, hint = words[0]\n",
        "word = word.lower()\n",
        "guessed = [\"_\"] * len(word)\n",
        "attempts = 6\n",
        "guessed_letters = []\n",
        "\n",
        "print(\"Welcome to Hangman!\")\n",
        "print(\"Guess the word before you run out of attempts.\\n\")\n",
        "\n",
        "while attempts > 0 and \"_\" in guessed:\n",
        "    print(\"\\nWord: \" + \" \".join(guessed))\n",
        "    print(f\"Attempts remaining: {attempts}\")\n",
        "\n",
        "    if attempts <= 3:\n",
        "        print(f\"Hint: {hint}\")\n",
        "\n",
        "    guess = input(\"Enter a letter: \").lower()\n",
        "\n",
        "    if not guess.isalpha() or len(guess) != 1:\n",
        "        print(\"Please enter a single letter.\")\n",
        "        continue\n",
        "\n",
        "    if guess in guessed_letters:\n",
        "        print(\"You've already guessed that letter.\")\n",
        "        continue\n",
        "\n",
        "    guessed_letters.append(guess)\n",
        "\n",
        "    if guess in word:\n",
        "        for idx, char in enumerate(word):\n",
        "            if char == guess:\n",
        "                guessed[idx] = guess\n",
        "        print(\"Correct!\")\n",
        "    else:\n",
        "        attempts -= 1\n",
        "        print(\"Incorrect!\")\n",
        "\n",
        "\n",
        "if \"_\" not in guessed:\n",
        "    print(\"Congratulations! You guessed the word:\", word)\n",
        "else:\n",
        "    print(\"Game Over! The word was:\", word)\n"
      ],
      "metadata": {
        "colab": {
          "base_uri": "https://localhost:8080/"
        },
        "id": "1TVTbYxaJ2Qb",
        "outputId": "22ed674d-bdc6-4fc6-d1ef-90b60cfed6a5"
      },
      "execution_count": 20,
      "outputs": [
        {
          "output_type": "stream",
          "name": "stdout",
          "text": [
            "Welcome to Hangman!\n",
            "Guess the word before you run out of attempts.\n",
            "\n",
            "\n",
            "Word: _ _ _ _ _\n",
            "Attempts remaining: 6\n",
            "Enter a letter: g\n",
            "Incorrect!\n",
            "\n",
            "Word: _ _ _ _ _\n",
            "Attempts remaining: 5\n",
            "Enter a letter: u\n",
            "Incorrect!\n",
            "\n",
            "Word: _ _ _ _ _\n",
            "Attempts remaining: 4\n",
            "Enter a letter: t\n",
            "Incorrect!\n",
            "\n",
            "Word: _ _ _ _ _\n",
            "Attempts remaining: 3\n",
            "Hint: A popular Italian dish with cheese and sauce\n",
            "Enter a letter: e\n",
            "Incorrect!\n",
            "\n",
            "Word: _ _ _ _ _\n",
            "Attempts remaining: 2\n",
            "Hint: A popular Italian dish with cheese and sauce\n",
            "Enter a letter: n\n",
            "Incorrect!\n",
            "\n",
            "Word: _ _ _ _ _\n",
            "Attempts remaining: 1\n",
            "Hint: A popular Italian dish with cheese and sauce\n",
            "Enter a letter: o\n",
            "Incorrect!\n",
            "\n",
            "😞 Game Over! The word was: pizza\n"
          ]
        }
      ]
    }
  ]
}